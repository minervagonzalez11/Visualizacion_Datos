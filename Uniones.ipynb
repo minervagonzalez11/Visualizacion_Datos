{
  "nbformat": 4,
  "nbformat_minor": 0,
  "metadata": {
    "colab": {
      "provenance": [],
      "authorship_tag": "ABX9TyOY1BssO93FtA224tjjFlLO",
      "include_colab_link": true
    },
    "kernelspec": {
      "name": "python3",
      "display_name": "Python 3"
    },
    "language_info": {
      "name": "python"
    }
  },
  "cells": [
    {
      "cell_type": "markdown",
      "metadata": {
        "id": "view-in-github",
        "colab_type": "text"
      },
      "source": [
        "<a href=\"https://colab.research.google.com/github/minervagonzalez11/Visualizacion_Datos/blob/main/Uniones.ipynb\" target=\"_parent\"><img src=\"https://colab.research.google.com/assets/colab-badge.svg\" alt=\"Open In Colab\"/></a>"
      ]
    },
    {
      "cell_type": "markdown",
      "source": [
        "Ejercicio 6\n",
        "Tipos de uniones (joins) en python\n",
        "1. inner join:\n",
        "use dos conjuntos de datos basandose en una condicion comun\n",
        "solo inlcuye filas que tienen  coi"
      ],
      "metadata": {
        "id": "Zxmr3m7jxk9W"
      }
    },
    {
      "cell_type": "code",
      "execution_count": 1,
      "metadata": {
        "id": "71KTtN_TxeHz"
      },
      "outputs": [],
      "source": [
        "import pandas as pd"
      ]
    },
    {
      "cell_type": "markdown",
      "source": [
        "**Crear dos DataFrames**"
      ],
      "metadata": {
        "id": "2LL808xayA18"
      }
    },
    {
      "cell_type": "code",
      "source": [
        "df1 = pd.DataFrame({\n",
        "    'ID': [1,2,3,4],\n",
        "    'Nombre': ['Ana','Juan','Maria','Carlos'],\n",
        "    'Departamento': ['Ventas', 'IT', 'Marketing', 'RH']\n",
        "})\n",
        "\n",
        "df2 = pd.DataFrame({\n",
        "    'ID': [3,4,5,6],\n",
        "    'Salario': [50000,60000,55000,65000]\n",
        "\n",
        "})\n",
        "\n",
        "print(\"DataFrame 1:\")\n",
        "print(df1)\n",
        "print(\"DataFrame 2:\")\n",
        "print(df2)"
      ],
      "metadata": {
        "colab": {
          "base_uri": "https://localhost:8080/"
        },
        "id": "XlttBc9qyD4E",
        "outputId": "19a33520-6a5d-4d34-cc9c-dc1e8daa5523"
      },
      "execution_count": 6,
      "outputs": [
        {
          "output_type": "stream",
          "name": "stdout",
          "text": [
            "DataFrame 1:\n",
            "   ID  Nombre Departamento\n",
            "0   1     Ana       Ventas\n",
            "1   2    Juan           IT\n",
            "2   3   Maria    Marketing\n",
            "3   4  Carlos           RH\n",
            "DataFrame 2:\n",
            "   ID  Salario\n",
            "0   3    50000\n",
            "1   4    60000\n",
            "2   5    55000\n",
            "3   6    65000\n"
          ]
        }
      ]
    },
    {
      "cell_type": "markdown",
      "source": [
        "fusion inner"
      ],
      "metadata": {
        "id": "s5Nj4IZuzQwW"
      }
    },
    {
      "cell_type": "code",
      "source": [
        "inner_merge = pd.merge(df1,df2, on='ID', how='inner')\n",
        "print(\"\\nFusion inner:\")\n",
        "print(inner_merge)"
      ],
      "metadata": {
        "colab": {
          "base_uri": "https://localhost:8080/"
        },
        "id": "ifM3_rCWzSvp",
        "outputId": "d7f94e2e-639a-4e99-cc97-ef393ff56444"
      },
      "execution_count": 7,
      "outputs": [
        {
          "output_type": "stream",
          "name": "stdout",
          "text": [
            "\n",
            "Fusion inner:\n",
            "   ID  Nombre Departamento  Salario\n",
            "0   3   Maria    Marketing    50000\n",
            "1   4  Carlos           RH    60000\n"
          ]
        }
      ]
    },
    {
      "cell_type": "markdown",
      "source": [
        "## **Fusion outer**"
      ],
      "metadata": {
        "id": "_QpSp7Tc0IF_"
      }
    },
    {
      "cell_type": "code",
      "source": [
        "outer_merge = pd.merge(df1,df2, on='ID', how='outer')\n",
        "print(\"\\nFusion outer:\")\n",
        "print(outer_merge)"
      ],
      "metadata": {
        "colab": {
          "base_uri": "https://localhost:8080/"
        },
        "id": "xoGH9CNk0K1a",
        "outputId": "cc704f83-0b14-49e7-cb31-bdfb4b30f288"
      },
      "execution_count": 9,
      "outputs": [
        {
          "output_type": "stream",
          "name": "stdout",
          "text": [
            "\n",
            "Fusion outer:\n",
            "   ID  Nombre Departamento  Salario\n",
            "0   1     Ana       Ventas      NaN\n",
            "1   2    Juan           IT      NaN\n",
            "2   3   Maria    Marketing  50000.0\n",
            "3   4  Carlos           RH  60000.0\n",
            "4   5     NaN          NaN  55000.0\n",
            "5   6     NaN          NaN  65000.0\n"
          ]
        }
      ]
    },
    {
      "cell_type": "markdown",
      "source": [
        "## **Fusion left**"
      ],
      "metadata": {
        "id": "4qyc7rB00z4z"
      }
    },
    {
      "cell_type": "code",
      "source": [
        "left_merge = pd.merge(df1,df2, on='ID', how='left')\n",
        "print(\"\\nFusion left:\")\n",
        "print(left_merge)"
      ],
      "metadata": {
        "colab": {
          "base_uri": "https://localhost:8080/"
        },
        "id": "K-lxbpRB03mS",
        "outputId": "0bc5b54d-8be5-407d-c497-15c9c62425b0"
      },
      "execution_count": 10,
      "outputs": [
        {
          "output_type": "stream",
          "name": "stdout",
          "text": [
            "\n",
            "Fusion left:\n",
            "   ID  Nombre Departamento  Salario\n",
            "0   1     Ana       Ventas      NaN\n",
            "1   2    Juan           IT      NaN\n",
            "2   3   Maria    Marketing  50000.0\n",
            "3   4  Carlos           RH  60000.0\n"
          ]
        }
      ]
    },
    {
      "cell_type": "markdown",
      "source": [
        "## **Fusion right**"
      ],
      "metadata": {
        "id": "sgnGRUKH1S5K"
      }
    },
    {
      "cell_type": "code",
      "source": [
        "right_merge = pd.merge(df1,df2, on='ID', how='right')\n",
        "print(\"\\nFusion right:\")\n",
        "print(right_merge)"
      ],
      "metadata": {
        "colab": {
          "base_uri": "https://localhost:8080/"
        },
        "id": "P7p5yqCw1W7k",
        "outputId": "b50cf03e-6f20-4df1-9bf1-9b2e32532458"
      },
      "execution_count": 11,
      "outputs": [
        {
          "output_type": "stream",
          "name": "stdout",
          "text": [
            "\n",
            "Fusion right:\n",
            "   ID  Nombre Departamento  Salario\n",
            "0   3   Maria    Marketing    50000\n",
            "1   4  Carlos           RH    60000\n",
            "2   5     NaN          NaN    55000\n",
            "3   6     NaN          NaN    65000\n"
          ]
        }
      ]
    },
    {
      "cell_type": "markdown",
      "source": [
        "Concatenacion"
      ],
      "metadata": {
        "id": "VoeSyFMi1j7J"
      }
    },
    {
      "cell_type": "code",
      "source": [
        "df3 = pd.DataFrame({\n",
        "    'ID': [7, 8],\n",
        "    'Nombre': ['Sofia', 'Pedro'],\n",
        "    'Departamento': ['Finanzas', 'Ventas']\n",
        "})\n",
        "\n",
        "concatenated = pd.concat([df1,df3])\n",
        "print(\"\\nConcatenacion de DataFrame\")\n",
        "print(concatenated)"
      ],
      "metadata": {
        "colab": {
          "base_uri": "https://localhost:8080/"
        },
        "id": "pjdgpUW_1ntO",
        "outputId": "b2424a18-0f5f-4e58-f648-b84e832e28ce"
      },
      "execution_count": 12,
      "outputs": [
        {
          "output_type": "stream",
          "name": "stdout",
          "text": [
            "\n",
            "Concatenacion de DataFrame\n",
            "   ID  Nombre Departamento\n",
            "0   1     Ana       Ventas\n",
            "1   2    Juan           IT\n",
            "2   3   Maria    Marketing\n",
            "3   4  Carlos           RH\n",
            "0   7   Sofia     Finanzas\n",
            "1   8   Pedro       Ventas\n"
          ]
        }
      ]
    }
  ]
}