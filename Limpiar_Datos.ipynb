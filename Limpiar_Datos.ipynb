{
  "nbformat": 4,
  "nbformat_minor": 0,
  "metadata": {
    "colab": {
      "provenance": [],
      "authorship_tag": "ABX9TyMYrz/xycEJMla1pfYvZyXd",
      "include_colab_link": true
    },
    "kernelspec": {
      "name": "python3",
      "display_name": "Python 3"
    },
    "language_info": {
      "name": "python"
    }
  },
  "cells": [
    {
      "cell_type": "markdown",
      "metadata": {
        "id": "view-in-github",
        "colab_type": "text"
      },
      "source": [
        "<a href=\"https://colab.research.google.com/github/minervagonzalez11/Visualizacion_Datos/blob/main/Limpiar_Datos.ipynb\" target=\"_parent\"><img src=\"https://colab.research.google.com/assets/colab-badge.svg\" alt=\"Open In Colab\"/></a>"
      ]
    },
    {
      "cell_type": "code",
      "execution_count": null,
      "metadata": {
        "id": "IKIK4k4DoEBf"
      },
      "outputs": [],
      "source": []
    },
    {
      "cell_type": "markdown",
      "source": [
        "NumPy: Libreria Fundamental para Computacion Cientifica en Python\n",
        "NumPy: Es una libreria fundamental para la computacion cientifica en Python =, Es la base de muchas otras"
      ],
      "metadata": {
        "id": "Fzb5QeCGoJrE"
      }
    },
    {
      "cell_type": "markdown",
      "source": [
        "Cargar librerias Pandas y Numpy"
      ],
      "metadata": {
        "id": "p7beOHTwqARd"
      }
    },
    {
      "cell_type": "code",
      "source": [
        "import pandas as pd\n",
        "import numpy as np"
      ],
      "metadata": {
        "id": "IQ3t7nEVotou"
      },
      "execution_count": 1,
      "outputs": []
    },
    {
      "cell_type": "markdown",
      "source": [
        "Crear un DataFrame con datos sucios"
      ],
      "metadata": {
        "id": "VAvkROGRo3no"
      }
    },
    {
      "cell_type": "code",
      "source": [
        "df = pd.DataFrame({\n",
        "    'A': [1, 2, np.nan, 4, 5],\n",
        "    'B': [5, 6, 7, np.nan, 9],\n",
        "    'C': ['a', 'b', 'C', 'd', 'e'],\n",
        "    'D': ['foo', 'bar', 'foo', 'bar', 'foo']\n",
        "})\n",
        "print(\"DataFrame original:\")\n",
        "print(df)"
      ],
      "metadata": {
        "colab": {
          "base_uri": "https://localhost:8080/"
        },
        "id": "MqYQCID6o8Xe",
        "outputId": "91f49e20-98ac-4227-8963-527fafb826e7"
      },
      "execution_count": 2,
      "outputs": [
        {
          "output_type": "stream",
          "name": "stdout",
          "text": [
            "DataFrame original:\n",
            "     A    B  C    D\n",
            "0  1.0  5.0  a  foo\n",
            "1  2.0  6.0  b  bar\n",
            "2  NaN  7.0  C  foo\n",
            "3  4.0  NaN  d  bar\n",
            "4  5.0  9.0  e  foo\n"
          ]
        }
      ]
    },
    {
      "cell_type": "markdown",
      "source": [
        "Eliminar filas con valores nulos"
      ],
      "metadata": {
        "id": "IbxwpJnzqP3U"
      }
    },
    {
      "cell_type": "code",
      "source": [
        "df_clean = df.dropna()\n",
        "print(\"\\nDataFrame si  filas nulas:\")\n",
        "print(df_clean)"
      ],
      "metadata": {
        "colab": {
          "base_uri": "https://localhost:8080/"
        },
        "id": "Vl7TMNmoqTC5",
        "outputId": "37f054f1-e166-426b-8311-c4d31cc8fe0e"
      },
      "execution_count": 3,
      "outputs": [
        {
          "output_type": "stream",
          "name": "stdout",
          "text": [
            "\n",
            "DataFrame si  filas nulas:\n",
            "     A    B  C    D\n",
            "0  1.0  5.0  a  foo\n",
            "1  2.0  6.0  b  bar\n",
            "4  5.0  9.0  e  foo\n"
          ]
        }
      ]
    },
    {
      "cell_type": "markdown",
      "source": [
        "Rellenar valores nulos"
      ],
      "metadata": {
        "id": "AUvvaalKrKPC"
      }
    },
    {
      "cell_type": "code",
      "source": [
        "df_filled = df.fillna(value={'A': df['A'].mean(), 'B': df['B'].median})\n",
        "print(\"\\nDataFrame con valores nulos rellenados:\")\n",
        "print(df_filled)"
      ],
      "metadata": {
        "colab": {
          "base_uri": "https://localhost:8080/"
        },
        "id": "9mpVRYzgrMd7",
        "outputId": "7820a3bf-9381-4cb6-bf24-366fd0bf78df"
      },
      "execution_count": 5,
      "outputs": [
        {
          "output_type": "stream",
          "name": "stdout",
          "text": [
            "\n",
            "DataFrame con valores nulos rellenados:\n",
            "     A                                                  B  C    D\n",
            "0  1.0                                                5.0  a  foo\n",
            "1  2.0                                                6.0  b  bar\n",
            "2  3.0                                                7.0  C  foo\n",
            "3  4.0  <bound method Series.median of 0    5.0\\n1    ...  d  bar\n",
            "4  5.0                                                9.0  e  foo\n"
          ]
        }
      ]
    },
    {
      "cell_type": "markdown",
      "source": [
        "Eliminar duplicados"
      ],
      "metadata": {
        "id": "0zLfNWjusRLW"
      }
    },
    {
      "cell_type": "code",
      "source": [
        " df_no_duplicantes = df.drop_duplicates(subset=['D'])\n",
        " print(\"\\nDataFrame sin duplicados en la columna D:\")\n",
        " print(df_no_duplicantes)"
      ],
      "metadata": {
        "colab": {
          "base_uri": "https://localhost:8080/"
        },
        "id": "zKIFTmaDsTkk",
        "outputId": "e2b61071-2e96-4563-b802-d9cccd82cda6"
      },
      "execution_count": 7,
      "outputs": [
        {
          "output_type": "stream",
          "name": "stdout",
          "text": [
            "\n",
            "DataFrame sin duplicados en la columna D:\n",
            "     A    B  C    D\n",
            "0  1.0  5.0  a  foo\n",
            "1  2.0  6.0  b  bar\n"
          ]
        }
      ]
    },
    {
      "cell_type": "markdown",
      "source": [
        "Renombrar columnas"
      ],
      "metadata": {
        "id": "eqTFSOCrujzg"
      }
    },
    {
      "cell_type": "code",
      "source": [
        "df_renamed = df.rename(columns={'A': 'Alpha', 'B': 'Beta',\n",
        "                                'C': 'Charlie', 'D': 'Delta'})\n",
        "print(\"\\nDataFrame con columnas renombradas:\")\n",
        "print(df_renamed)"
      ],
      "metadata": {
        "colab": {
          "base_uri": "https://localhost:8080/"
        },
        "id": "HIQI9bioummi",
        "outputId": "5e2b55fd-b8f4-4a05-9058-b74afc8f5aa7"
      },
      "execution_count": 8,
      "outputs": [
        {
          "output_type": "stream",
          "name": "stdout",
          "text": [
            "\n",
            "DataFrame con columnas renombradas:\n",
            "   Alpha  Beta Charlie Delta\n",
            "0    1.0   5.0       a   foo\n",
            "1    2.0   6.0       b   bar\n",
            "2    NaN   7.0       C   foo\n",
            "3    4.0   NaN       d   bar\n",
            "4    5.0   9.0       e   foo\n"
          ]
        }
      ]
    }
  ]
}